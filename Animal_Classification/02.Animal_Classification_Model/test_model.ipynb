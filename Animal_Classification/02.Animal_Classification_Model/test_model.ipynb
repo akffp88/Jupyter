{
 "cells": [
  {
   "cell_type": "markdown",
   "metadata": {},
   "source": [
    "# test_model.py\n",
    "\n",
    "### Tensorflow, pandas, train_test_split 라이브러리 추가"
   ]
  },
  {
   "cell_type": "code",
   "execution_count": 3,
   "metadata": {},
   "outputs": [],
   "source": [
    "import tensorflow as tf\n",
    "import pandas as pd\n",
    "from sklearn.model_selection import train_test_split"
   ]
  },
  {
   "cell_type": "markdown",
   "metadata": {},
   "source": [
    "### animal_classification_model.py에서 작성한 클래스(animal_classifier) 추가"
   ]
  },
  {
   "cell_type": "code",
   "execution_count": 4,
   "metadata": {},
   "outputs": [],
   "source": [
    "from animal_classification_model import animal_classifier"
   ]
  },
  {
   "cell_type": "code",
   "execution_count": 5,
   "metadata": {},
   "outputs": [],
   "source": [
    "zoo = pd.read_csv(\"./data/zoo.csv\")\n",
    "\n",
    "animal_data = zoo.iloc[:,:-1]\n",
    "\n",
    "label_data = zoo.iloc[:,-1:]\n",
    "\n",
    "train_x, test_x, train_y, test_y = train_test_split(animal_data,label_data,test_size=0.3,random_state=42,stratify=label_data)\n",
    "\n",
    "train_name = train_x['animal_name']\n",
    "test_name = test_x['animal_name']\n",
    "\n",
    "train_x = train_x.iloc[:,1:]\n",
    "test_x = test_x.iloc[:,1:]\n",
    "\n",
    "sess = tf.Session()\n",
    "\n",
    "model = animal_classifier(sess)"
   ]
  },
  {
   "cell_type": "markdown",
   "metadata": {},
   "source": [
    "### 저장된 모델을 불러오기 위한 Saver 유형 변수 생성"
   ]
  },
  {
   "cell_type": "code",
   "execution_count": 6,
   "metadata": {},
   "outputs": [],
   "source": [
    "saver = tf.train.Saver()"
   ]
  },
  {
   "cell_type": "markdown",
   "metadata": {},
   "source": [
    "### 저장된 모델 불러오기"
   ]
  },
  {
   "cell_type": "code",
   "execution_count": 7,
   "metadata": {},
   "outputs": [
    {
     "name": "stdout",
     "output_type": "stream",
     "text": [
      "INFO:tensorflow:Restoring parameters from ./models/-5001\n"
     ]
    }
   ],
   "source": [
    "saver.restore(sess,tf.train.latest_checkpoint('./models/'))"
   ]
  },
  {
   "cell_type": "markdown",
   "metadata": {},
   "source": [
    "### test_x와 test_y로 불러온 모델 테스트 하기"
   ]
  },
  {
   "cell_type": "code",
   "execution_count": 9,
   "metadata": {},
   "outputs": [
    {
     "name": "stdout",
     "output_type": "stream",
     "text": [
      "    Animal_name  Predict_Type  Origin_Type\n",
      "100        wren             2            2\n",
      "58      penguin             2            2\n",
      "43         lark             2            2\n",
      "21         duck             2            2\n",
      "10      cheetah             1            1\n",
      "40     housefly             6            6\n",
      "50     mongoose             1            1\n",
      "4          boar             1            1\n",
      "87         swan             2            2\n",
      "80     slowworm             3            3\n",
      "70     reindeer             1            1\n",
      "37         hawk             2            2\n",
      "7          carp             4            4\n",
      "44      leopard             1            1\n",
      "53      octopus             6            7\n",
      "60         pike             4            4\n",
      "84     squirrel             1            1\n",
      "47         lynx             1            1\n",
      "94         vole             1            1\n",
      "89         toad             5            5\n",
      "92         tuna             4            4\n",
      "93      vampire             1            1\n",
      "49         mole             1            1\n",
      "12         chub             4            4\n",
      "31         goat             1            1\n",
      "76     seasnake             5            3\n",
      "77      seawasp             4            7\n",
      "65         pony             1            1\n",
      "14         crab             5            7\n",
      "51         moth             6            6\n",
      "22     elephant             1            1\n"
     ]
    }
   ],
   "source": [
    "prediction_result = model._prediction_(test_x,test_y)\n",
    "\n",
    "sub = pd.DataFrame()\n",
    "sub['Animal_name'] = test_name\n",
    "sub['Predict_Type'] = prediction_result\n",
    "sub['Origin_Type'] = test_y\n",
    "\n",
    "print(sub)"
   ]
  }
 ],
 "metadata": {
  "kernelspec": {
   "display_name": "Python 3",
   "language": "python",
   "name": "python3"
  },
  "language_info": {
   "codemirror_mode": {
    "name": "ipython",
    "version": 3
   },
   "file_extension": ".py",
   "mimetype": "text/x-python",
   "name": "python",
   "nbconvert_exporter": "python",
   "pygments_lexer": "ipython3",
   "version": "3.6.5"
  }
 },
 "nbformat": 4,
 "nbformat_minor": 2
}
