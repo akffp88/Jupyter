{
 "cells": [
  {
   "cell_type": "markdown",
   "metadata": {},
   "source": [
    "### animal_classification_model.py\n",
    "\n",
    "### Tensorflow, pandas 라이브러리 추가"
   ]
  },
  {
   "cell_type": "code",
   "execution_count": null,
   "metadata": {},
   "outputs": [],
   "source": [
    "#Tensorflow 추가\n",
    "import tensorflow as tf\n",
    "\n",
    "#pandas추가\n",
    "import pandas as pd "
   ]
  },
  {
   "cell_type": "markdown",
   "metadata": {},
   "source": [
    "### 동물 분류(animal classification)을 위한 class 생성"
   ]
  },
  {
   "cell_type": "code",
   "execution_count": null,
   "metadata": {},
   "outputs": [],
   "source": [
    "class animal_classifier :\n",
    "    def __init__(self,sess):\n",
    "        self.sess = sess \n",
    "        \n",
    "        #Input Layer 노드 개수 \n",
    "        self.Num_of_Features = 16 \n",
    "        \n",
    "         #Output Layer node 개수\n",
    "        self.Num_of_Output = 1\n",
    "\n",
    "         #입력데이터와 출력 데이터의 관계(Relationship) 또는 패턴(Pattern)을 나타내기 위한 함수 : hypothesis\n",
    "        self.hypothesis = None\n",
    "        \n",
    "        #cost 값을 저장하는 변수\n",
    "        self.cost = None \n",
    "        \n",
    "        self.optimization = None \n",
    "        \n",
    "        #예측 결과를 저장하는 변수\n",
    "        self.prediction = None \n",
    "        \n",
    "        #정확도를 저장하는 변수\n",
    "        self.accuracy = None \n",
    "        \n",
    "        self.cost_val = None\n",
    "        self.optimize_val = None\n",
    "        self.Max_Step = 1001\n",
    "\n",
    "        # 뉴럴네트워크를 구성하기 위한 함수 호출\n",
    "        self._build_net() "
   ]
  },
  {
   "cell_type": "markdown",
   "metadata": {},
   "source": [
    "### 네트워크 구성하는 함수(_build_net)"
   ]
  },
  {
   "cell_type": "code",
   "execution_count": null,
   "metadata": {},
   "outputs": [],
   "source": [
    "def _build_net(self): \n",
    "        with tf.variable_scope(tf.get_variable_scope(),reuse=tf.AUTO_REUSE):\n",
    "            self.X = tf.placeholder(tf.float32, shape=([None,self.Num_of_Features]),name=\"X\")\n",
    "            self.Y = tf.placeholder(tf.int32, shape=([None,self.Num_of_Output]),name=\"Y\")\n",
    "\n",
    "            self.Y_one_hot = tf.one_hot(self.Y, 7, name=\"Y_one_hot\")\n",
    "            self.Y_one_hot = tf.reshape(self.Y_one_hot, [-1,7])\n",
    "        \n",
    "            self.W1 = tf.get_variable(name='W1',initializer=tf.truncated_normal([self.Num_of_Features,7]))\n",
    "        \n",
    "            self.b1 = tf.get_variable(name='b1',initializer=tf.zeros([7]))\n",
    "\n",
    "            self.Hidden1_Act = tf.matmul(self.X, self.W1) + self.b1\n",
    "\n",
    "            self.hypothesis = tf.nn.softmax(self.Hidden1_Act)\n",
    "            \n",
    "            self.cost_i = tf.nn.softmax_cross_entropy_with_logits_v2(logits=self.Hidden1_Act, labels=self.Y_one_hot)\n",
    "\n",
    "            self.cost = tf.reduce_mean(self.cost_i)\n",
    "        \n",
    "            self.optimization = tf.train.GradientDescentOptimizer(learning_rate=0.05).minimize(self.cost)\n",
    "                 \n",
    "            self.prediction = tf.argmax(self.hypothesis, 1)\n",
    "\n",
    "            self.correct_prediction = tf.equal(self.prediction, tf.argmax(self.Y_one_hot,1))\n",
    "            \n",
    "            self.accuracy = tf.reduce_mean(tf.cast(self.correct_prediction,tf.float32))"
   ]
  },
  {
   "cell_type": "markdown",
   "metadata": {},
   "source": [
    "### 구성한 네트워크로 만들어진 모델을 훈련하는 함수(_train_model)"
   ]
  },
  {
   "cell_type": "code",
   "execution_count": null,
   "metadata": {},
   "outputs": [],
   "source": [
    "    def _train_model(self,animal_input,label_input): #모델 학습하기\n",
    "        self.sess.run(self.optimization,feed_dict={self.X: animal_input, self.Y: label_input})\n",
    "\n",
    "        cost, acc = self.sess.run([self.cost, self.accuracy], feed_dict={self.X: animal_input, self.Y: label_input})\n",
    "\n",
    "        return acc"
   ]
  },
  {
   "cell_type": "markdown",
   "metadata": {},
   "source": [
    "### 훈련한 모델을 사용하여 새로운 값을 예측하는데 사용되는 함수(_prediction_)"
   ]
  },
  {
   "cell_type": "code",
   "execution_count": null,
   "metadata": {},
   "outputs": [],
   "source": [
    "    def _prediction_(self,animal_input,label_input): #학습된 모델을 이용하여 예측하기\n",
    "        test_predict = self.sess.run(self.prediction, feed_dict={self.X: animal_input,self.Y: label_input})\n",
    "        return test_predict"
   ]
  }
 ],
 "metadata": {
  "kernelspec": {
   "display_name": "Python 3",
   "language": "python",
   "name": "python3"
  },
  "language_info": {
   "codemirror_mode": {
    "name": "ipython",
    "version": 3
   },
   "file_extension": ".py",
   "mimetype": "text/x-python",
   "name": "python",
   "nbconvert_exporter": "python",
   "pygments_lexer": "ipython3",
   "version": "3.6.5"
  }
 },
 "nbformat": 4,
 "nbformat_minor": 2
}
