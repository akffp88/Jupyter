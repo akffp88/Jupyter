{
 "cells": [
  {
   "cell_type": "markdown",
   "metadata": {},
   "source": [
    "### kakao_bot.py\n",
    "\n",
    "### 라이브러리 추가"
   ]
  },
  {
   "cell_type": "code",
   "execution_count": null,
   "metadata": {},
   "outputs": [],
   "source": [
    "from flask import Flask\n",
    "from flask import request\n",
    "from flask import jsonify\n",
    "from flask import json\n",
    "\n",
    "import myProcessing\n",
    "import pandas as pd\n",
    "import numpy as nd"
   ]
  },
  {
   "cell_type": "code",
   "execution_count": null,
   "metadata": {},
   "outputs": [],
   "source": [
    "app = Flask(__name__)\n",
    "\n",
    "@app.route(\"/\")\n",
    "def hello_world():\n",
    "    return \"Hello World\""
   ]
  },
  {
   "cell_type": "markdown",
   "metadata": {},
   "source": [
    "### 카카오 봇이 특정 동물이름(Bear, Dolphin, Duck, Elephant 등)을 버튼으로 선택할 수 있게 함"
   ]
  },
  {
   "cell_type": "code",
   "execution_count": null,
   "metadata": {},
   "outputs": [],
   "source": [
    "@app.route(\"/keyboard\")\n",
    "def keyboard():\n",
    "        content = {\n",
    "            'type' : 'buttons',\n",
    "            'buttons' : ['Bear', 'Dolphin', 'Duck', 'Elephant', 'Frog', 'Gorilla', 'Honeybee', 'Lobster', 'Octopus', 'Seahorse', 'Seasnake']\n",
    "            }\n",
    "        return jsonify(content)"
   ]
  },
  {
   "cell_type": "markdown",
   "metadata": {},
   "source": [
    "### 카카오봇으로부터 받은 데이터를 처리하는 함수"
   ]
  },
  {
   "cell_type": "code",
   "execution_count": null,
   "metadata": {},
   "outputs": [],
   "source": [
    "@app.route(\"/message\",methods=['GET', 'POST'])\n",
    "def message():\n",
    "        print(request.data)\n",
    "        data = json.loads(request.data)\n",
    "        content = data[\"content\"]\n",
    "\n",
    "        if content == \"Bear\":        \n",
    "                raw_data = \"1,0,0,1,0,0,1,1,1,1,0,0,4,0,0,1\"\n",
    "        elif content == \"Dolphin\":\n",
    "                raw_data = \"0,0,0,1,0,1,1,1,1,1,0,1,0,1,0,1\"\n",
    "        elif content == \"Duck\":\n",
    "                raw_data = \"0,1,1,0,1,1,0,0,1,1,0,0,2,1,0,0\"\n",
    "        elif content == \"Elephant\":\n",
    "                raw_data = \"1,0,0,1,0,0,0,1,1,1,0,0,4,1,0,1\"\n",
    "        elif content == \"Frog\":\n",
    "                raw_data = \"0,0,1,0,0,1,1,1,1,1,1,0,4,0,0,0\"\n",
    "        elif content == \"Gorilla\":\n",
    "                raw_data = \"1,0,0,1,0,0,0,1,1,1,0,0,2,0,0,1\"\n",
    "        elif content == \"Honeybee\":\n",
    "                raw_data = \"1,0,1,0,1,0,0,0,0,1,1,0,6,0,1,0\"\n",
    "        elif content == \"Lobster\":\n",
    "                raw_data = \"0,0,1,0,0,1,1,0,0,0,0,0,6,0,0,0\"\n",
    "        elif content == \"Octopus\":\n",
    "                raw_data = \"0,0,1,0,0,1,1,0,0,0,0,0,8,0,0,1\"\n",
    "        elif content == \"Seahorse\":\n",
    "                raw_data = \"0,0,1,0,0,1,0,1,1,0,0,1,0,1,0,0\"\n",
    "        elif content == \"Seasnake\":\n",
    "                raw_data = \"0,0,0,0,0,1,1,1,1,0,1,0,0,1,0,0\"\n",
    "        else :\n",
    "                raw_data = \"\"\n",
    "\n",
    "        result = myProcessing._get_response_(content)\n",
    "        \n",
    "        result = pd.Series(result).to_json(orient='values')\n",
    "        \n",
    "        if result == '[1]':\n",
    "                result = \"Mammal\"\n",
    "        elif result == '[2]':\n",
    "                result = \"Bird\"\n",
    "        elif result == '[3]':\n",
    "                result = \"Reptile\"\n",
    "        elif result == '[4]':\n",
    "                result = \"Fish\"\n",
    "        elif result == '[5]':\n",
    "                result = \"Amphibian\"\n",
    "        elif result == '[6]': \n",
    "                result = \"Bug\"\n",
    "        elif result == '[7]':\n",
    "                result = \"Invertebrate\"\n",
    "        else :\n",
    "                result = result\n",
    "\n",
    "        text = raw_data + \"\\n\" +  result\n",
    "\n",
    "        response ={\n",
    "                \"message\" :{\n",
    "                        \"text\" : text\n",
    "                },\n",
    "\n",
    "                \"keyboard\" : {\n",
    "                        'type' : 'buttons',\n",
    "                        'buttons' : ['Bear', 'Dolphin', 'Duck', 'Elephant', 'Frog', 'Gorilla', 'Honeybee', 'Lobster', 'Octopus', 'Seahorse', 'Seasnake'] \n",
    "                }\n",
    "        }\n",
    "\n",
    "        response = json.dumps(response)\n",
    "\n",
    "        return response\n",
    "\n",
    "if __name__ == \"__main__\":\n",
    "    myProcessing._setup_()\n",
    "    app.run(host=\"0.0.0.0\", port=5000)"
   ]
  }
 ],
 "metadata": {
  "kernelspec": {
   "display_name": "Python 3",
   "language": "python",
   "name": "python3"
  },
  "language_info": {
   "codemirror_mode": {
    "name": "ipython",
    "version": 3
   },
   "file_extension": ".py",
   "mimetype": "text/x-python",
   "name": "python",
   "nbconvert_exporter": "python",
   "pygments_lexer": "ipython3",
   "version": "3.6.5"
  }
 },
 "nbformat": 4,
 "nbformat_minor": 2
}
