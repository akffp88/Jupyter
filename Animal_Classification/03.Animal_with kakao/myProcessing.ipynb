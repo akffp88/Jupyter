{
 "cells": [
  {
   "cell_type": "markdown",
   "metadata": {},
   "source": [
    "### myProcessing.py\n",
    "\n",
    "### 라이브러리 추가"
   ]
  },
  {
   "cell_type": "code",
   "execution_count": null,
   "metadata": {},
   "outputs": [],
   "source": [
    "import tensorflow as tf\n",
    "import sys\n",
    "import os\n",
    "import pandas as pd\n",
    "import numpy as np\n",
    "from sklearn.model_selection import train_test_split"
   ]
  },
  {
   "cell_type": "markdown",
   "metadata": {},
   "source": [
    "### animal_classifier 클래스 추가"
   ]
  },
  {
   "cell_type": "code",
   "execution_count": null,
   "metadata": {},
   "outputs": [],
   "source": [
    "from animal_classification_model import animal_classifier"
   ]
  },
  {
   "cell_type": "code",
   "execution_count": null,
   "metadata": {},
   "outputs": [],
   "source": [
    "zoo = pd.read_csv(\"./data/test.csv\")\n",
    "\n",
    "animal_data = zoo.iloc[:,:-1]\n",
    "\n",
    "label_data = zoo.iloc[:,-1:]\n",
    "\n",
    "model = dict()"
   ]
  },
  {
   "cell_type": "markdown",
   "metadata": {},
   "source": [
    "### kakao 봇과 소통하기 전에 기본적으로 필요한 환경 세팅을 위한 함수"
   ]
  },
  {
   "cell_type": "code",
   "execution_count": null,
   "metadata": {},
   "outputs": [],
   "source": [
    "def _setup_():\n",
    "    global model, animal_data, label_data\n",
    "    \n",
    "    sess = tf.Session()\n",
    "    \n",
    "    model = animal_classifier(sess)\n",
    "    \n",
    "    saver = tf.train.Saver()\n",
    "    \n",
    "    saver.restore(sess,tf.train.latest_checkpoint('./models'))"
   ]
  },
  {
   "cell_type": "markdown",
   "metadata": {},
   "source": [
    "### kakao 봇이 보낸 데이터에 대한 반응을 주는 함수"
   ]
  },
  {
   "cell_type": "code",
   "execution_count": null,
   "metadata": {},
   "outputs": [],
   "source": [
    "def _get_response_(content):\n",
    "    if content == \"Bear\":\n",
    "        test_data = animal_data.iloc[0,1:]\n",
    "        test_label = label_data.iloc[0,:]\n",
    "       \n",
    "        test_data = pd.Series.to_frame(test_data)\n",
    "        test_data = pd.DataFrame.transpose(test_data)\n",
    "\n",
    "        test_label = pd.Series.to_frame(test_label)\n",
    "        test_label = pd.DataFrame.transpose(test_label)\n",
    "\n",
    "        result = model._prediction_(test_data,test_label)\n",
    "        \n",
    "    elif content == \"Dolphin\":\n",
    "        test_data = animal_data.iloc[1,1:]\n",
    "        test_label = label_data.iloc[1,:]\n",
    "        \n",
    "        test_data = pd.Series.to_frame(test_data)\n",
    "        test_data = pd.DataFrame.transpose(test_data)\n",
    "\n",
    "        test_label = pd.Series.to_frame(test_label)\n",
    "        test_label = pd.DataFrame.transpose(test_label)\n",
    "\n",
    "        result = model._prediction_(test_data,test_label)\n",
    "        \n",
    "    elif content == \"Duck\":\n",
    "        test_data = animal_data.iloc[2,1:]\n",
    "        test_label = label_data.iloc[2,:]\n",
    "        \n",
    "        test_data = pd.Series.to_frame(test_data)\n",
    "        test_data = pd.DataFrame.transpose(test_data)\n",
    "\n",
    "        test_label = pd.Series.to_frame(test_label)\n",
    "        test_label = pd.DataFrame.transpose(test_label)\n",
    "\n",
    "        result = model._prediction_(test_data,test_label)\n",
    "        \n",
    "    elif content == \"Elephant\":\n",
    "        test_data = animal_data.iloc[3,1:]\n",
    "        test_label = label_data.iloc[3,:]\n",
    "\n",
    "        test_data = pd.Series.to_frame(test_data)\n",
    "        test_data = pd.DataFrame.transpose(test_data)\n",
    "\n",
    "        test_label = pd.Series.to_frame(test_label)\n",
    "        test_label = pd.DataFrame.transpose(test_label)\n",
    "\n",
    "        result = model._prediction_(test_data,test_label)\n",
    "        \n",
    "    elif content == \"Frog\":\n",
    "        test_data = animal_data.iloc[4,1:]\n",
    "        test_label = label_data.iloc[4,:]\n",
    "        \n",
    "        test_data = pd.Series.to_frame(test_data)\n",
    "        test_data = pd.DataFrame.transpose(test_data)\n",
    "\n",
    "        test_label = pd.Series.to_frame(test_label)\n",
    "\n",
    "        result = model._prediction_(test_data,test_label)\n",
    "    \n",
    "    elif content == \"Gorilla\":\n",
    "        test_data = animal_data.iloc[5,1:]\n",
    "        test_label = label_data.iloc[5,:]\n",
    "        \n",
    "        test_data = pd.Series.to_frame(test_data)\n",
    "        test_data = pd.DataFrame.transpose(test_data)\n",
    "\n",
    "        test_label = pd.Series.to_frame(test_label)        \n",
    "\n",
    "        result = model._prediction_(test_data,test_label)\n",
    "    \n",
    "    elif content == \"Honeybee\":\n",
    "        test_data = animal_data.iloc[6,1:]\n",
    "        test_label = label_data.iloc[6,:]\n",
    "        \n",
    "        test_data = pd.Series.to_frame(test_data)\n",
    "        test_data = pd.DataFrame.transpose(test_data)\n",
    "\n",
    "        test_label = pd.Series.to_frame(test_label)        \n",
    "\n",
    "        result = model._prediction_(test_data,test_label)\n",
    "\n",
    "    elif content == \"Lobster\":\n",
    "        test_data = animal_data.iloc[7,1:]\n",
    "        test_label = label_data.iloc[7,:]\n",
    "        \n",
    "        test_data = pd.Series.to_frame(test_data)\n",
    "        test_data = pd.DataFrame.transpose(test_data)\n",
    "\n",
    "        test_label = pd.Series.to_frame(test_label)        \n",
    "\n",
    "        result = model._prediction_(test_data,test_label)\n",
    "\n",
    "    elif content == \"Octopus\":\n",
    "        test_data = animal_data.iloc[8,1:]\n",
    "        test_label = label_data.iloc[8,:]\n",
    "        \n",
    "        test_data = pd.Series.to_frame(test_data)\n",
    "        test_data = pd.DataFrame.transpose(test_data)\n",
    "\n",
    "        test_label = pd.Series.to_frame(test_label)        \n",
    "\n",
    "        result = model._prediction_(test_data,test_label)\n",
    "    \n",
    "    elif content == \"Seahorse\":\n",
    "        test_data = animal_data.iloc[9,1:]\n",
    "        test_label = label_data.iloc[9,:]\n",
    "        \n",
    "        test_data = pd.Series.to_frame(test_data)\n",
    "        test_data = pd.DataFrame.transpose(test_data)\n",
    "\n",
    "        test_label = pd.Series.to_frame(test_label)        \n",
    "\n",
    "        result = model._prediction_(test_data,test_label)\n",
    "\n",
    "    elif content == \"Seasnake\":\n",
    "        test_data = animal_data.iloc[10,1:]\n",
    "        test_label = label_data.iloc[10,:]\n",
    "        \n",
    "        test_data = pd.Series.to_frame(test_data)\n",
    "        test_data = pd.DataFrame.transpose(test_data)\n",
    "\n",
    "        test_label = pd.Series.to_frame(test_label)        \n",
    "\n",
    "        result = model._prediction_(test_data,test_label)\n",
    "    \n",
    "    else :\n",
    "        result = \"올바른 값을 입력해주세요.\"\n",
    "\n",
    "    return result"
   ]
  }
 ],
 "metadata": {
  "kernelspec": {
   "display_name": "Python 3",
   "language": "python",
   "name": "python3"
  },
  "language_info": {
   "codemirror_mode": {
    "name": "ipython",
    "version": 3
   },
   "file_extension": ".py",
   "mimetype": "text/x-python",
   "name": "python",
   "nbconvert_exporter": "python",
   "pygments_lexer": "ipython3",
   "version": "3.6.5"
  }
 },
 "nbformat": 4,
 "nbformat_minor": 2
}
