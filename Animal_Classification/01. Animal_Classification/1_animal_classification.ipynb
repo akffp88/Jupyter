{
 "cells": [
  {
   "cell_type": "markdown",
   "metadata": {},
   "source": [
    "# 1_animal_classification.py\n",
    "\n",
    "### Tensorflow, pandas, train_test_split 라이브러리 추가"
   ]
  },
  {
   "cell_type": "code",
   "execution_count": 24,
   "metadata": {},
   "outputs": [],
   "source": [
    "#Tensorflow 추가\n",
    "import tensorflow as tf\n",
    "\n",
    "#pandas추가\n",
    "import pandas as pd \n",
    "\n",
    "#sklearn의 train_test_split 라이브러리 추가(Dataset 내에서 train data와 test data를 분리하기 위해 사용)\n",
    "from sklearn.model_selection import train_test_split "
   ]
  },
  {
   "cell_type": "markdown",
   "metadata": {},
   "source": [
    "### Data Set 불러오기"
   ]
  },
  {
   "cell_type": "code",
   "execution_count": 25,
   "metadata": {},
   "outputs": [],
   "source": [
    "#csv 형식의 파일 read\n",
    "zoo = pd.read_csv(\"./data/zoo.csv\") "
   ]
  },
  {
   "cell_type": "markdown",
   "metadata": {},
   "source": [
    "### Data set의 열을 분리(Slice)"
   ]
  },
  {
   "cell_type": "code",
   "execution_count": 26,
   "metadata": {},
   "outputs": [
    {
     "name": "stdout",
     "output_type": "stream",
     "text": [
      "  animal_name  hair  feathers  eggs  milk  airborne  aquatic  predator  \\\n",
      "0    aardvark     1         0     0     1         0        0         1   \n",
      "1    antelope     1         0     0     1         0        0         0   \n",
      "2        bass     0         0     1     0         0        1         1   \n",
      "3        bear     1         0     0     1         0        0         1   \n",
      "4        boar     1         0     0     1         0        0         1   \n",
      "\n",
      "   toothed  backbone  breathes  venomous  fins  legs  tail  domestic  catsize  \n",
      "0        1         1         1         0     0     4     0         0        1  \n",
      "1        1         1         1         0     0     4     1         0        1  \n",
      "2        1         1         0         0     1     0     1         0        0  \n",
      "3        1         1         1         0     0     4     0         0        1  \n",
      "4        1         1         1         0     0     4     1         0        1  \n",
      "   class_type\n",
      "0           1\n",
      "1           1\n",
      "2           4\n",
      "3           1\n",
      "4           1\n"
     ]
    }
   ],
   "source": [
    "#zoo.csv의 마지막 열(column)인 class_type은 제외하고 animal_data 변수에 저장\n",
    "animal_data = zoo.iloc[:,:-1] \n",
    "\n",
    "print(animal_data.head())\n",
    "\n",
    "#zoo.csv의 마지막 열(column)인 class_type만 label_data 변수에 저장\n",
    "label_data = zoo.iloc[:,-1:] \n",
    "\n",
    "print(label_data.head())"
   ]
  },
  {
   "cell_type": "markdown",
   "metadata": {},
   "source": [
    "### 전체 data set중 30%를 test데이터, 70%는 학습에 사용하기 위해 임의로 분할"
   ]
  },
  {
   "cell_type": "code",
   "execution_count": 27,
   "metadata": {},
   "outputs": [],
   "source": [
    "train_x, test_x, train_y, test_y = train_test_split(animal_data,label_data,test_size=0.3,random_state=42,stratify=label_data)"
   ]
  },
  {
   "cell_type": "markdown",
   "metadata": {},
   "source": [
    "첫번째 열인 동물이름(animal_name) 열을 분리"
   ]
  },
  {
   "cell_type": "code",
   "execution_count": 28,
   "metadata": {},
   "outputs": [],
   "source": [
    "#train_x, test_x의 가장 첫 번째 animal_name 열을 train_name, test_name 변수에 저장\n",
    "train_name = train_x['animal_name']\n",
    "test_name = test_x['animal_name']"
   ]
  },
  {
   "cell_type": "markdown",
   "metadata": {},
   "source": [
    "### train_x, test_x의 가장 첫 번째 동물이름(animal_name) 열을 제외하고 숫자 값만 갖는 데이터 형식으로 열을 분리(Slice) "
   ]
  },
  {
   "cell_type": "code",
   "execution_count": 29,
   "metadata": {},
   "outputs": [],
   "source": [
    "train_x = train_x.iloc[:,1:]\n",
    "test_x = test_x.iloc[:,1:]"
   ]
  },
  {
   "cell_type": "markdown",
   "metadata": {},
   "source": [
    "### tensorflow 라이브러리를 이용하여 네트워크 만들기\n",
    "#### Input Layer 노드의 수 : 16개\n",
    "#### 1번째 Hidden Layer 노드의 수 : 1개\n",
    "#### Output Layer 노드의 수 : 1개"
   ]
  },
  {
   "cell_type": "code",
   "execution_count": null,
   "metadata": {},
   "outputs": [],
   "source": []
  },
  {
   "cell_type": "code",
   "execution_count": 30,
   "metadata": {},
   "outputs": [],
   "source": [
    "#Input Layer\n",
    "#shape=(None, 7) : 입력하는 개수가 많을때는 정확히 알 수 없음(None), 한 번에 입력할 때 들어가는 데이터의 특징의 수 : 픽셀 9칸 -> 9\n",
    "#Input Layer 노드의 수 = 16\n",
    "X = tf.placeholder(dtype=tf.float32, shape=[None,16],name=\"X\") #Input Layer 노드의 수 : 16\n",
    "\n",
    "#Output Layer\n",
    "Y = tf.placeholder(dtype=tf.int32, shape=[None,1], name=\"Y\") #Output Layer 노드의 수 : 1\n",
    "\n",
    "#Output Layer 노드의 수가 1개로 0인지 1인지 구별하기 위해 사용하는 방법이 One-hot encoding\n",
    "# 동물원의 동물 분류 7종 분류에 대한 One-hot encoding\n",
    "Y_one_hot = tf.one_hot(Y, 7)  # one hot encoding으로 7개 Class로 분류\n",
    "Y_one_hot = tf.reshape(Y_one_hot, [-1, 7])"
   ]
  },
  {
   "cell_type": "markdown",
   "metadata": {},
   "source": [
    "### 가중치(Weight : w)와 편향(Bias : b)"
   ]
  },
  {
   "cell_type": "code",
   "execution_count": 31,
   "metadata": {},
   "outputs": [],
   "source": [
    "W = tf.Variable(tf.random_normal([16, 7],seed=0), name='W')\n",
    "\n",
    "b = tf.Variable(tf.random_normal([7],seed=0), name='b')"
   ]
  },
  {
   "cell_type": "markdown",
   "metadata": {},
   "source": [
    "### Input Layer 입력 값에 대한 가중치와 편향 계산 값"
   ]
  },
  {
   "cell_type": "code",
   "execution_count": 32,
   "metadata": {},
   "outputs": [],
   "source": [
    "logit = tf.matmul(X,W)+b "
   ]
  },
  {
   "cell_type": "code",
   "execution_count": 33,
   "metadata": {},
   "outputs": [],
   "source": [
    "#입력데이터와 출력 데이터의 관계(Relationship) 또는 패턴(Pattern)을 나타내기 위한 함수 : hypothesis\n",
    "hypothesis = tf.nn.softmax(logit)"
   ]
  },
  {
   "cell_type": "code",
   "execution_count": 34,
   "metadata": {},
   "outputs": [],
   "source": [
    "#Logits를 통해 그려진 그래프와, hypothesis를 통해 판별한 결과의 오차를 계산\n",
    "cost_i = tf.nn.softmax_cross_entropy_with_logits_v2(logits=logit,labels=Y_one_hot)\n",
    "\n",
    "#전체 오차의 평균\n",
    "cost = tf.reduce_mean(cost_i) "
   ]
  },
  {
   "cell_type": "code",
   "execution_count": 35,
   "metadata": {},
   "outputs": [],
   "source": [
    "#경사하강법(Gradient-Descent)를 이용하여 학습\n",
    "#학습률(Learning_rate) : 0.05 -> 학습을 하는 과정에서 경사를 하강하는 폭의 정도 -> 작을 수록 폭이 좁음, 넓을 수록 폭이 넓음\n",
    "train  = tf.train.GradientDescentOptimizer(learning_rate=0.05).minimize(cost)"
   ]
  },
  {
   "cell_type": "code",
   "execution_count": 36,
   "metadata": {},
   "outputs": [],
   "source": [
    "#우리가 선정한 hypothesis 함수를 기반으로 Classification을 예측한 결과\n",
    "prediction = tf.argmax(hypothesis, 1) \n",
    "\n",
    "#Prediction의 결과가 실제 Label 값과 맞는지 여부\n",
    "correct_prediction = tf.equal(prediction, tf.argmax(Y_one_hot, 1)) \n",
    "\n",
    "#Prediction의 정확성을 저장하는 변수\n",
    "accuracy = tf.reduce_mean(tf.cast(correct_prediction, tf.float32)) "
   ]
  },
  {
   "cell_type": "markdown",
   "metadata": {},
   "source": [
    "### Tensorflow에서 값을 처리하기 위해 필요한 Session을 활용하여 실행"
   ]
  },
  {
   "cell_type": "code",
   "execution_count": 37,
   "metadata": {},
   "outputs": [
    {
     "name": "stdout",
     "output_type": "stream",
     "text": [
      "Step:     0\tLoss: 3.402\tAcc: 30.00%\n",
      "Step:  1000\tLoss: 0.135\tAcc: 87.14%\n",
      "Step:  2000\tLoss: 0.076\tAcc: 90.00%\n",
      "Step:  3000\tLoss: 0.054\tAcc: 90.00%\n",
      "Step:  4000\tLoss: 0.043\tAcc: 90.00%\n",
      "Step:  5000\tLoss: 0.037\tAcc: 90.00%\n",
      "Model Prediction = 0.9\n",
      "Test Prediction = 0.9354839\n"
     ]
    }
   ],
   "source": [
    "# Session 유형의 변수 sess 생성\n",
    "with tf.Session() as sess:\n",
    "    # Tensorflow 변수 초기화\n",
    "    sess.run(tf.global_variables_initializer())\n",
    "    # 5001번 반복하며 학습\n",
    "    for step in range(5001):\n",
    "        sess.run(train, feed_dict={X: train_x, Y: train_y})\n",
    "        if step % 1000 == 0:\n",
    "            loss, acc = sess.run([cost, accuracy], feed_dict={X: train_x, Y: train_y})\n",
    "            print(\"Step: {:5}\\tLoss: {:.3f}\\tAcc: {:.2%}\".format(step, loss, acc))\n",
    "    \n",
    "    # 설계한 모델의 학습 정확도 계산\n",
    "    train_acc = sess.run(accuracy, feed_dict={X: train_x, Y: train_y})\n",
    "    print(\"Model Prediction =\", train_acc)\n",
    "    \n",
    "    # 학습한 모델에 test_x, test_y을 이용하여 테스트 \n",
    "    test_acc,test_predict,test_correct = sess.run([accuracy,prediction,correct_prediction], feed_dict={X: test_x, Y: test_y})\n",
    "    print(\"Test Prediction =\", test_acc)"
   ]
  },
  {
   "cell_type": "markdown",
   "metadata": {},
   "source": [
    "### 테스트 한 결과 출력"
   ]
  },
  {
   "cell_type": "code",
   "execution_count": 38,
   "metadata": {},
   "outputs": [
    {
     "name": "stdout",
     "output_type": "stream",
     "text": [
      "         Name  Predict_Type  Origin_Type  Correct\n",
      "100      wren             2            2     True\n",
      "58    penguin             2            2     True\n",
      "43       lark             2            2     True\n",
      "21       duck             2            2     True\n",
      "10    cheetah             1            1     True\n",
      "40   housefly             6            6     True\n",
      "50   mongoose             1            1     True\n",
      "4        boar             1            1     True\n",
      "87       swan             2            2     True\n",
      "80   slowworm             3            3     True\n",
      "70   reindeer             1            1     True\n",
      "37       hawk             2            2     True\n",
      "7        carp             4            4     True\n",
      "44    leopard             1            1     True\n",
      "53    octopus             0            7     True\n",
      "60       pike             4            4     True\n",
      "84   squirrel             1            1     True\n",
      "47       lynx             1            1     True\n",
      "94       vole             1            1     True\n",
      "89       toad             5            5     True\n",
      "92       tuna             4            4     True\n",
      "93    vampire             1            1     True\n",
      "49       mole             1            1     True\n",
      "12       chub             4            4     True\n",
      "31       goat             1            1     True\n",
      "76   seasnake             3            3     True\n",
      "77    seawasp             4            7    False\n",
      "65       pony             1            1     True\n",
      "14       crab             5            7    False\n",
      "51       moth             6            6     True\n",
      "22   elephant             1            1     True\n"
     ]
    }
   ],
   "source": [
    "sub = pd.DataFrame()\n",
    "sub['Name'] = test_name\n",
    "sub['Predict_Type'] = test_predict\n",
    "sub['Origin_Type'] = test_y\n",
    "sub['Correct'] = test_correct\n",
    "\n",
    "print(sub)"
   ]
  }
 ],
 "metadata": {
  "kernelspec": {
   "display_name": "Python 3",
   "language": "python",
   "name": "python3"
  },
  "language_info": {
   "codemirror_mode": {
    "name": "ipython",
    "version": 3
   },
   "file_extension": ".py",
   "mimetype": "text/x-python",
   "name": "python",
   "nbconvert_exporter": "python",
   "pygments_lexer": "ipython3",
   "version": "3.6.5"
  }
 },
 "nbformat": 4,
 "nbformat_minor": 2
}
