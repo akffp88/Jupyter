{
 "cells": [
  {
   "cell_type": "markdown",
   "metadata": {},
   "source": [
    "# myProcessing.py\n",
    "\n",
    "### Tensorflow, pandas 라이브러리 추가"
   ]
  },
  {
   "cell_type": "code",
   "execution_count": 5,
   "metadata": {},
   "outputs": [],
   "source": [
    "import tensorflow as tf\n",
    "\n",
    "import sys\n",
    "\n",
    "import os\n",
    "\n",
    "from binary_classification_model import binary_classifier"
   ]
  },
  {
   "cell_type": "code",
   "execution_count": 6,
   "metadata": {},
   "outputs": [],
   "source": [
    "#Label 0에 대한 테스트 데이터\n",
    "test_0_pixel = [[1, 1, 1, 1, 0, 1, 1, 1, 1]]\n",
    "test_0_label = [[0]]\n",
    "\n",
    "#Label 1에 대한 테스트 데이터\n",
    "test_1_pixel = [[0, 1, 0, 0, 1, 0, 0, 1, 0]]\n",
    "test_1_label = [[1]]\n",
    "\n",
    "model = dict()"
   ]
  },
  {
   "cell_type": "markdown",
   "metadata": {},
   "source": [
    "### kakao 봇과 소통하기 전에 기본적으로 필요한 환경 세팅을 위한 함수"
   ]
  },
  {
   "cell_type": "code",
   "execution_count": 7,
   "metadata": {},
   "outputs": [],
   "source": [
    "def _setup_():\n",
    "    global model, test_0_label, test_0_pixel, test_1_label, test_1_pixel\n",
    "    \n",
    "    sess = tf.Session()\n",
    "    \n",
    "    #binary_classifier 객체 생성\n",
    "    model = binary_classifier(sess)\n",
    "    \n",
    "    #학습된 모델을 불러오기 위한 변수\n",
    "    saver = tf.train.Saver()\n",
    "    \n",
    "    saver.restore(sess,tf.train.latest_checkpoint('./models'))"
   ]
  },
  {
   "cell_type": "markdown",
   "metadata": {},
   "source": [
    "### kakao 봇이 보낸 데이터에 대한 반응을 주는 함수"
   ]
  },
  {
   "cell_type": "code",
   "execution_count": 8,
   "metadata": {},
   "outputs": [],
   "source": [
    "def _get_response_(content):   \n",
    "    if content == 0 :\n",
    "        result = model._prediction_(test_0_pixel,test_0_label)\n",
    "    else :\n",
    "        result = model._prediction_(test_1_pixel,test_1_label)\n",
    "    return result"
   ]
  }
 ],
 "metadata": {
  "kernelspec": {
   "display_name": "Python 3",
   "language": "python",
   "name": "python3"
  },
  "language_info": {
   "codemirror_mode": {
    "name": "ipython",
    "version": 3
   },
   "file_extension": ".py",
   "mimetype": "text/x-python",
   "name": "python",
   "nbconvert_exporter": "python",
   "pygments_lexer": "ipython3",
   "version": "3.6.5"
  }
 },
 "nbformat": 4,
 "nbformat_minor": 2
}
