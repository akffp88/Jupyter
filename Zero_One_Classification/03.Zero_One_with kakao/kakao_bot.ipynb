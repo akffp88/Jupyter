{
 "cells": [
  {
   "cell_type": "markdown",
   "metadata": {},
   "source": [
    "# myProcessing.py\n",
    "\n",
    "### Tensorflow, pandas 라이브러리 추가"
   ]
  },
  {
   "cell_type": "markdown",
   "metadata": {},
   "source": [
    "from flask import Flask\n",
    "\n",
    "from flask import request\n",
    "\n",
    "from flask import jsonify\n",
    "\n",
    "from flask import json\n",
    "\n",
    "import myProcessing"
   ]
  },
  {
   "cell_type": "markdown",
   "metadata": {},
   "source": [
    "app = Flask(__name__)\n",
    "\n",
    "@app.route(\"/\")\n",
    "def hello_world():\n",
    "    return \"Hello World\""
   ]
  },
  {
   "cell_type": "markdown",
   "metadata": {},
   "source": [
    "### 카카오 봇이 Label 0, Label 1이라는 버튼으로 선택할 수 있게 함"
   ]
  },
  {
   "cell_type": "markdown",
   "metadata": {},
   "source": [
    "@app.route(\"/keyboard\")\n",
    "def keyboard():\n",
    "        content = {\n",
    "            'type' : 'buttons',\n",
    "            'buttons' : ['Label 0', 'Label 1']\n",
    "            }\n",
    "        return jsonify(content)"
   ]
  },
  {
   "cell_type": "markdown",
   "metadata": {},
   "source": [
    "### 카카오봇으로부터 받은 데이터를 처리하는 함수"
   ]
  },
  {
   "cell_type": "markdown",
   "metadata": {},
   "source": [
    "@app.route(\"/message\",methods=['GET', 'POST'])\n",
    "def message():\n",
    "        data = json.loads(request.data)\n",
    "        content = data[\"content\"]\n",
    "\n",
    "        #선택한 버튼이 Label 0이라면\n",
    "        if content == \"Label 0\":\n",
    "                result = myProcessing._get_response_(0)\n",
    "                \n",
    "        #선택한 버튼이 Label 1이라면\n",
    "        else :\n",
    "                result = myProcessing._get_response_(1)\n",
    "\n",
    "        print(result)\n",
    "        \n",
    "        response ={\n",
    "                \"message\" :{\n",
    "                        \"text\" : result\n",
    "                }\n",
    "        }\n",
    "\n",
    "        response = json.dumps(response)\n",
    "\n",
    "        return response"
   ]
  },
  {
   "cell_type": "markdown",
   "metadata": {},
   "source": [
    "if __name__ == \"__main__\":\n",
    "    myProcessing._setup_()\n",
    "    app.run(host=\"0.0.0.0\", port=5000)"
   ]
  }
 ],
 "metadata": {
  "kernelspec": {
   "display_name": "Python 3",
   "language": "python",
   "name": "python3"
  },
  "language_info": {
   "codemirror_mode": {
    "name": "ipython",
    "version": 3
   },
   "file_extension": ".py",
   "mimetype": "text/x-python",
   "name": "python",
   "nbconvert_exporter": "python",
   "pygments_lexer": "ipython3",
   "version": "3.6.5"
  }
 },
 "nbformat": 4,
 "nbformat_minor": 2
}
