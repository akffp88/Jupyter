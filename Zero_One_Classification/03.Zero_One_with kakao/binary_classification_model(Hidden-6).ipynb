{
 "cells": [
  {
   "cell_type": "markdown",
   "metadata": {},
   "source": [
    "# binary_classification_model.py\n",
    "\n",
    "### Tensorflow, pandas 라이브러리 추가"
   ]
  },
  {
   "cell_type": "code",
   "execution_count": 1,
   "metadata": {},
   "outputs": [
    {
     "name": "stderr",
     "output_type": "stream",
     "text": [
      "C:\\ProgramData\\Anaconda3\\lib\\site-packages\\h5py\\__init__.py:36: FutureWarning: Conversion of the second argument of issubdtype from `float` to `np.floating` is deprecated. In future, it will be treated as `np.float64 == np.dtype(float).type`.\n",
      "  from ._conv import register_converters as _register_converters\n"
     ]
    }
   ],
   "source": [
    "import tensorflow as tf\n",
    "\n",
    "import pandas as pd"
   ]
  },
  {
   "cell_type": "markdown",
   "metadata": {},
   "source": [
    "### 이진 분류(binary classification)을 위한 class 생성"
   ]
  },
  {
   "cell_type": "code",
   "execution_count": 2,
   "metadata": {},
   "outputs": [],
   "source": [
    "class binary_classifier :\n",
    "    def __init__(self,sess):\n",
    "        self.sess = sess \n",
    "        self.Num_of_Features = 9 \n",
    "        self.Hidden1_SIZE = 6 \n",
    "        self.Num_of_Output = 1 \n",
    "        self.Hidden1_Act = None \n",
    "        self.hypothesis = None \n",
    "        self.cost = None \n",
    "        self.optimization = None \n",
    "        self.prediction = None \n",
    "        self.accuracy = None \n",
    "        self.cost_val = None\n",
    "        self.optimize_val = None\n",
    "        self.Max_Step = 1001\n",
    "\n",
    "        self._build_net()"
   ]
  },
  {
   "cell_type": "code",
   "execution_count": 3,
   "metadata": {},
   "outputs": [
    {
     "data": {
      "text/html": [
       "<img src=\"https://postfiles.pstatic.net/MjAxODA3MjZfOTgg/MDAxNTMyNTg4MDAzMDA3.APkyUUhEpIVvZOtOGMQ4Us2_Ttr9kRhyc7BE_vR5uwkg.IlkYKsupGiD9RvxInklgALBeN4mVui8nagHacIDu2uYg.JPEG.akffp08/zero_one-2.JPG?type=w966\">"
      ],
      "text/plain": [
       "<IPython.core.display.HTML object>"
      ]
     },
     "metadata": {},
     "output_type": "display_data"
    }
   ],
   "source": [
    "%%html\n",
    "<img src=\"https://postfiles.pstatic.net/MjAxODA3MjZfOTgg/MDAxNTMyNTg4MDAzMDA3.APkyUUhEpIVvZOtOGMQ4Us2_Ttr9kRhyc7BE_vR5uwkg.IlkYKsupGiD9RvxInklgALBeN4mVui8nagHacIDu2uYg.JPEG.akffp08/zero_one-2.JPG?type=w966\">"
   ]
  },
  {
   "cell_type": "code",
   "execution_count": 4,
   "metadata": {},
   "outputs": [],
   "source": [
    "def _build_net(self): \n",
    "    with tf.variable_scope(tf.get_variable_scope(),reuse=tf.AUTO_REUSE):\n",
    "        \n",
    "        #Input Layer 노드 : 9게\n",
    "        self.X = tf.placeholder(tf.float32, shape=([None,self.Num_of_Features]),name=\"X\")\n",
    "        \n",
    "        #Output Layer 노드 : 1개\n",
    "        self.Y = tf.placeholder(tf.int32, shape=([None,self.Num_of_Output]),name=\"Y\")\n",
    "\n",
    "        self.Y_one_hot = tf.one_hot(self.Y, 2, name=\"Y_one_hot\")\n",
    "        self.Y_one_hot = tf.reshape(self.Y_one_hot, [-1,2])\n",
    "    \n",
    "        #1번째 Hidden Layer : 노드 6개\n",
    "        self.W1 = tf.get_variable(name='W1',initializer=tf.truncated_normal([self.Num_of_Features,self.Hidden1_SIZE]))\n",
    "    \n",
    "        self.b1 = tf.get_variable(name='b1',initializer=tf.zeros([self.Hidden1_SIZE]))\n",
    "        \n",
    "        #1번째 Hidden Layer의 Hidden1_Act의 의미는 (입력 값 x 가중치) + bias\n",
    "        self.Hidden1_Act = tf.matmul(self.X, self.W1) + self.b1\n",
    "\n",
    "        #1번째 Hidden Layer와 Ouput Layer 사이의 가중치 설정\n",
    "        self.W2 = tf.get_variable(name='W2',initializer=tf.truncated_normal([self.Hidden1_SIZE,2]))\n",
    "        \n",
    "        self.b2 = tf.get_variable(name='b2',initializer=tf.zeros([2]))\n",
    "\n",
    "        self.logits = tf.matmul(self.Hidden1_Act,self.W2)+self.b2\n",
    "\n",
    "        self.hypothesis = tf.nn.softmax(self.logits)\n",
    "        \n",
    "        self.cost_i = tf.nn.softmax_cross_entropy_with_logits_v2(logits=self.logits, labels=self.Y_one_hot)\n",
    "\n",
    "        self.cost = tf.reduce_mean(self.cost_i)\n",
    "\n",
    "        self.optimization = tf.train.GradientDescentOptimizer(learning_rate=0.05).minimize(self.cost)\n",
    "             \n",
    "        self.prediction = tf.argmax(self.hypothesis, 1)\n",
    "\n",
    "        self.correct_prediction = tf.equal(self.prediction, tf.argmax(self.Y_one_hot,1))\n",
    "        \n",
    "        self.accuracy = tf.reduce_mean(tf.cast(self.correct_prediction,tf.float32))"
   ]
  },
  {
   "cell_type": "code",
   "execution_count": 5,
   "metadata": {},
   "outputs": [],
   "source": [
    "### 구성한 네트워크로 만들어진 모델을 훈련하는 함수(_train_model)"
   ]
  },
  {
   "cell_type": "code",
   "execution_count": 6,
   "metadata": {},
   "outputs": [],
   "source": [
    "def _train_model(self,pixel_input,label_input): #모델 학습하기\n",
    "    return self.sess.run([self.cost, self.accuracy], feed_dict={self.X: pixel_input, self.Y: label_input})"
   ]
  },
  {
   "cell_type": "code",
   "execution_count": 7,
   "metadata": {},
   "outputs": [],
   "source": [
    "### 훈련한 모델을 사용하여 새로운 값을 예측하는데 사용되는 함수(_prediction_)"
   ]
  },
  {
   "cell_type": "code",
   "execution_count": 8,
   "metadata": {},
   "outputs": [],
   "source": [
    "def _prediction_(self,pixel_input,label_input): #학습된 모델을 이용하여 예측하기\n",
    "    test_acc,test_predict,test_correct = self.sess.run([self.accuracy,self.prediction,self.correct_prediction], feed_dict={self.X: pixel_input, self.Y: label_input})\n",
    "\n",
    "    return test_predict"
   ]
  }
 ],
 "metadata": {
  "kernelspec": {
   "display_name": "Python 3",
   "language": "python",
   "name": "python3"
  },
  "language_info": {
   "codemirror_mode": {
    "name": "ipython",
    "version": 3
   },
   "file_extension": ".py",
   "mimetype": "text/x-python",
   "name": "python",
   "nbconvert_exporter": "python",
   "pygments_lexer": "ipython3",
   "version": "3.6.5"
  }
 },
 "nbformat": 4,
 "nbformat_minor": 2
}
